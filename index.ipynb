{
 "cells": [
  {
   "cell_type": "markdown",
   "metadata": {},
   "source": [
    "# Title\n",
    "### Subtitle\n",
    "* Contributors: Richard Marciano & Dev Pradhan\n",
    "* Source Available: https://github.com/cases-umd/case-file-template (replace with your CASE file git repository URL)\n",
    "* License: [Creative Commons - Attribute 4.0 Intl](https://creativecommons.org/licenses/by/4.0/)\n",
    "* [Lesson Plan for Instructors](./lesson-plan.ipynb)\n",
    "\n",
    "## Introduction\n",
    "Please introduce your topic\n",
    "\n",
    "<img src=\"project_image.png\" alt=\"Describe what the image shows\" title=\"Image title\" height=\"200\" width=\"200\">\n",
    "\n",
    "### Further Information\n",
    "Learn more about this project at the [website](http://researchwebsite.example.org)\n",
    "\n",
    "## Objectives\n",
    "Please state the project's research objectives for these computational treatments.\n",
    "\n",
    "## Learning Goals\n",
    "* Computational Practices:\n",
    " * [Collecting Data](#collecting_data)\n",
    " * [Modeling Data](#modeling_Data)\n",
    "* Archival Practices:\n",
    " * ??"
   ]
  },
  {
   "cell_type": "markdown",
   "metadata": {},
   "source": [
    "# Software and Tools\n",
    "Please discuss the programming language, software libraries, and other tools used in these notebooks:\n",
    "\n",
    "* [Tool 1](http://example.org/tool1)\n",
    "* [Software Library 2](http://example.org/tool1)\n",
    "\n",
    "If there are special instructions for acquiring any of the necessary tools, please explain those steps here.\n",
    "\n",
    "1. Go to the Tool1 website.\n",
    "2. Create an account. (required)\n",
    "3. Go to the \"Download\" page and follow instructions.\n"
   ]
  },
  {
   "cell_type": "markdown",
   "metadata": {},
   "source": [
    "# Acquiring or Accessing the Data\n",
    "Please write instructions here that show users how to obtain the research data, or let them know that it is packaged with your notebooks in Github. Does the student or user need additional permissions or accounts in order to obtain the data. If the data is downloaded separately, how should they save the data locally.\n",
    "In some cases the data may be available from a web API. If so, then what steps are needed in order to access that API?\n"
   ]
  },
  {
   "cell_type": "markdown",
   "metadata": {},
   "source": [
    "# Notebooks\n",
    "1. [Data Overview and Exploration](notebook-1.ipynb)\n",
    "1. [Data Cleaning and Preparation](notebook-2.ipynb)\n",
    "1. [Computation and Transformation](notebook-3.ipynb)\n",
    "1. [Visualization and Conclusion](notebook-4.ipynb)"
   ]
  },
  {
   "cell_type": "code",
   "execution_count": null,
   "metadata": {},
   "outputs": [],
   "source": []
  }
 ],
 "metadata": {
  "cases_info": {
   "computational_practices": [
    "cas:dp_collecting_data",
    "cas:dp_creating_data"
   ]
  },
  "kernelspec": {
   "display_name": "Python 3",
   "language": "python",
   "name": "python3"
  },
  "language_info": {
   "codemirror_mode": {
    "name": "ipython",
    "version": 3
   },
   "file_extension": ".py",
   "mimetype": "text/x-python",
   "name": "python",
   "nbconvert_exporter": "python",
   "pygments_lexer": "ipython3",
   "version": "3.6.5"
  }
 },
 "nbformat": 4,
 "nbformat_minor": 2
}
