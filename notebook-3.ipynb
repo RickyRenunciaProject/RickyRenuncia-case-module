{
 "cells": [
  {
   "cell_type": "markdown",
   "metadata": {},
   "source": [
    "# Computation and Transformation\n",
    "Now that we have obtained our data and cleaned it into a more useful form, we want to run some kind of analysis.\n",
    "This usually involves running some kind of algorithm on our data to reveal new connections or information.\n",
    "The algorithm can take many forms, from custom coding, to scripting libraries and toolkits, to services that\n",
    "you invoke over the web (web services).\n",
    "\n",
    "This notebook should describe each data transformation or computation step, including the inputs, outputs and processing\n",
    "that was used. It is important to show the outputs of computation in a way that will make sense to students. These could be\n",
    "graphs (using Plotly usually), or the printing of raw data tables."
   ]
  },
  {
   "cell_type": "code",
   "execution_count": null,
   "metadata": {},
   "outputs": [],
   "source": []
  }
 ],
 "metadata": {
  "kernelspec": {
   "display_name": "Python 3",
   "language": "python",
   "name": "python3"
  },
  "language_info": {
   "codemirror_mode": {
    "name": "ipython",
    "version": 3
   },
   "file_extension": ".py",
   "mimetype": "text/x-python",
   "name": "python",
   "nbconvert_exporter": "python",
   "pygments_lexer": "ipython3",
   "version": "3.6.5"
  }
 },
 "nbformat": 4,
 "nbformat_minor": 2
}
