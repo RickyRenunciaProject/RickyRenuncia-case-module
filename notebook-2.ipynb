{
 "cells": [
  {
   "cell_type": "markdown",
   "metadata": {},
   "source": [
    "# Data Cleaning and Preparation \n",
    "After obtaining the data, we first need to clean it to prepare for data analysis. This may include handling very similiar, but not identical text values and making sure that each column of interest contains a single attribute.\n",
    "\n",
    "This notebook should first highlight each data cleaning issue by showing examples found in the source data. Then it should show and explain the computational steps for resolving each cleaning issue."
   ]
  },
  {
   "cell_type": "code",
   "execution_count": null,
   "metadata": {},
   "outputs": [],
   "source": [
    "# Loading the Data\n",
    "import pandas as pd\n",
    "\n",
    "# Read the CSV file into a Pandas data frame:\n",
    "df = pd.read_csv(\"mydata.csv\")\n",
    "\n",
    "# Show the first three rows\n",
    "df.head(n=3)"
   ]
  },
  {
   "cell_type": "markdown",
   "metadata": {},
   "source": [
    "After you run the cell above, you will see the first three rows printed out. Discuss all the columns, their data types and ranges:\n",
    "* column 1 - Form, string \n",
    "* column 2 - State, string\n",
    "* column 3 - City, string\n",
    "* column 4 - Security_Grade, character\n",
    "* column 5 - Area_Number, int"
   ]
  },
  {
   "cell_type": "code",
   "execution_count": null,
   "metadata": {},
   "outputs": [],
   "source": []
  }
 ],
 "metadata": {
  "kernelspec": {
   "display_name": "Python 3",
   "language": "python",
   "name": "python3"
  },
  "language_info": {
   "codemirror_mode": {
    "name": "ipython",
    "version": 3
   },
   "file_extension": ".py",
   "mimetype": "text/x-python",
   "name": "python",
   "nbconvert_exporter": "python",
   "pygments_lexer": "ipython3",
   "version": "3.6.5"
  }
 },
 "nbformat": 4,
 "nbformat_minor": 2
}
