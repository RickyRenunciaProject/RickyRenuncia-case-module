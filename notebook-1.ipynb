{
 "cells": [
  {
   "cell_type": "markdown",
   "metadata": {},
   "source": [
    "# Data Overview\n",
    "Discuss the original sources of this data and any important issues or cautions related to the way this data was created.\n",
    "\n",
    "If this data is sourced from scanned images, then it may help to include an example image here. This gives students insights into how the data was originally collected in raw form."
   ]
  },
  {
   "cell_type": "code",
   "execution_count": null,
   "metadata": {},
   "outputs": [],
   "source": [
    "# Loading the Data\n",
    "import pandas as pd\n",
    "\n",
    "# Read the CSV file into a Pandas data frame:\n",
    "df = pd.read_csv(\"mydata.csv\")\n",
    "\n",
    "# Show the first three rows\n",
    "df.head(n=3)\n",
    "df.describe()"
   ]
  },
  {
   "cell_type": "markdown",
   "metadata": {},
   "source": [
    "After you run the cell above, you will see the first three rows printed out by the Pandas head() function. Then there is also some text that is output by the describe() function. For more information about Pandas data frame functions, see the documentation:\n",
    "* https://pandas.pydata.org/pandas-docs/stable/generated/pandas.DataFrame.duplicated.html"
   ]
  },
  {
   "cell_type": "markdown",
   "metadata": {},
   "source": [
    "## Dataset Exploration\n",
    "In order to further explore the dataset in depth, we may rely on Pandas functions and raw row data to discover the following information:\n",
    "\n",
    "* variable names\n",
    "* number of rows\n",
    "* number of missing values per variable\n",
    "* numeric variables: mean, max, min\n",
    "* categoric variables: levels, count\n",
    "* check for duplicate columns\n",
    "\n",
    "**Activity**: Explore this dataset using Pandas data frame functions and identify the information above. Record what you discover in the Markdown cell below."
   ]
  },
  {
   "cell_type": "markdown",
   "metadata": {},
   "source": [
    "# My Dataset Notes\n",
    "(This area provided for students to record their notes on the dataset.)"
   ]
  },
  {
   "cell_type": "code",
   "execution_count": null,
   "metadata": {},
   "outputs": [],
   "source": []
  }
 ],
 "metadata": {
  "kernelspec": {
   "display_name": "Python 3",
   "language": "python",
   "name": "python3"
  },
  "language_info": {
   "codemirror_mode": {
    "name": "ipython",
    "version": 3
   },
   "file_extension": ".py",
   "mimetype": "text/x-python",
   "name": "python",
   "nbconvert_exporter": "python",
   "pygments_lexer": "ipython3",
   "version": "3.6.5"
  }
 },
 "nbformat": 4,
 "nbformat_minor": 2
}
